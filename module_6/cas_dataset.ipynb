{
 "cells": [
  {
   "cell_type": "code",
   "execution_count": 25,
   "metadata": {},
   "outputs": [],
   "source": [
    "import SimpleITK as sitk\n",
    "import numpy as np\n",
    "import os\n",
    "from torch.utils.data import Dataset, DataLoader"
   ]
  },
  {
   "cell_type": "code",
   "execution_count": 2,
   "metadata": {},
   "outputs": [
    {
     "data": {
      "text/plain": [
       "200"
      ]
     },
     "execution_count": 2,
     "metadata": {},
     "output_type": "execute_result"
    }
   ],
   "source": [
    "path = '/home/ikboljon.sobirov/data/fs1_research/Ikboljon.Sobirov/imagecas/imagecas/resampled_space/'\n",
    "\n",
    "patients = os.listdir(path)\n",
    "len(patients)\n"
   ]
  },
  {
   "cell_type": "code",
   "execution_count": 67,
   "metadata": {},
   "outputs": [],
   "source": [
    "class CasDataset(Dataset):\n",
    "    def __init__(self, path, transform=None):\n",
    "        self.path = path\n",
    "        self.transform = transform\n",
    "        self.patients = os.listdir(self.path)\n",
    "\n",
    "    def __len__(self):\n",
    "        return len(self.patients)\n",
    "\n",
    "    def __getitem__(self, idx):\n",
    "        patient = self.patients[idx]\n",
    "        img = self.read_image(os.path.join(self.path, patient, (patient+'_img.nii.gz')))\n",
    "        mask = self.read_image(os.path.join(self.path, patient, (patient+'_seg.nii.gz')))\n",
    "        img = np.expand_dims(img, axis=0)\n",
    "        mask = np.expand_dims(mask, axis=0)\n",
    "\n",
    "        if self.transform:\n",
    "            img = self.transform(img)\n",
    "            # mask = self.transform(mask)\n",
    "            \n",
    "        \n",
    "        \n",
    "        return img, mask\n",
    "    \n",
    "    @staticmethod\n",
    "    def read_image(path):\n",
    "        img = sitk.ReadImage(path)\n",
    "        img = sitk.GetArrayFromImage(img)\n",
    "        return img\n",
    "    "
   ]
  },
  {
   "cell_type": "code",
   "execution_count": 68,
   "metadata": {},
   "outputs": [],
   "source": [
    "from torchvision import transforms\n",
    "import scipy.ndimage\n",
    "\n",
    "class Resize3DTransform:\n",
    "    def __init__(self, size):\n",
    "        self.size = size\n",
    "\n",
    "    def __call__(self, volume):\n",
    "        assert len(volume.shape) == len(self.size), \"Input volume and size dimensions do not match\"\n",
    "        resized_volume = scipy.ndimage.zoom(volume, self.size, order=3)\n",
    "        return resized_volume\n",
    "\n",
    "class ClipZeroOneTransform:\n",
    "    def __call__(self, image):\n",
    "        image = np.clip(image, 0, 1)\n",
    "        return image\n"
   ]
  },
  {
   "cell_type": "code",
   "execution_count": 69,
   "metadata": {},
   "outputs": [],
   "source": [
    "from torchvision import transforms\n",
    "\n",
    "\n",
    "# Apply transforms to the dataset\n",
    "transform = transforms.Compose([\n",
    "    # Resize3DTransform(size=(256, 256, 256)),\n",
    "    ClipZeroOneTransform()\n",
    "])  \n",
    "\n",
    "# Apply transforms to the dataset\n",
    "# Create an instance of the CasDataset\n",
    "dataset = CasDataset(path, transform=transform)\n",
    "\n",
    "# Create a DataLoader\n",
    "dataloader = DataLoader(dataset, batch_size=1, shuffle=True)\n"
   ]
  },
  {
   "cell_type": "code",
   "execution_count": 70,
   "metadata": {},
   "outputs": [],
   "source": [
    "sample = next(iter(dataloader))"
   ]
  },
  {
   "cell_type": "code",
   "execution_count": 71,
   "metadata": {},
   "outputs": [
    {
     "data": {
      "text/plain": [
       "(torch.Size([1, 1, 138, 163, 163]), torch.Size([1, 1, 138, 163, 163]))"
      ]
     },
     "execution_count": 71,
     "metadata": {},
     "output_type": "execute_result"
    }
   ],
   "source": [
    "sample[0].shape, sample[1].shape"
   ]
  },
  {
   "cell_type": "code",
   "execution_count": 66,
   "metadata": {},
   "outputs": [
    {
     "name": "stdout",
     "output_type": "stream",
     "text": [
      "torch.Size([1, 1, 138, 176, 176]) torch.Size([1, 1, 138, 176, 176])\n"
     ]
    }
   ],
   "source": [
    "for batch in dataloader:\n",
    "    img, mask = batch\n",
    "    print(img.shape, mask.shape)\n",
    "    break"
   ]
  },
  {
   "cell_type": "code",
   "execution_count": null,
   "metadata": {},
   "outputs": [],
   "source": []
  }
 ],
 "metadata": {
  "kernelspec": {
   "display_name": "lumen",
   "language": "python",
   "name": "python3"
  },
  "language_info": {
   "codemirror_mode": {
    "name": "ipython",
    "version": 3
   },
   "file_extension": ".py",
   "mimetype": "text/x-python",
   "name": "python",
   "nbconvert_exporter": "python",
   "pygments_lexer": "ipython3",
   "version": "3.9.18"
  }
 },
 "nbformat": 4,
 "nbformat_minor": 2
}
