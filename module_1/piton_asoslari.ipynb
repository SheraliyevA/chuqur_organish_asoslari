{
 "cells": [
  {
   "cell_type": "markdown",
   "metadata": {},
   "source": [
    "### Piton Asoslari"
   ]
  },
  {
   "cell_type": "code",
   "execution_count": 7,
   "metadata": {},
   "outputs": [
    {
     "name": "stdout",
     "output_type": "stream",
     "text": [
      "Qo'shishning javobi:  45\n"
     ]
    }
   ],
   "source": [
    "x = 5\n",
    "y = 9\n",
    "\n",
    "summa = x * y\n",
    "\n",
    "print('Qo\\'shishning javobi: ', summa)"
   ]
  },
  {
   "cell_type": "markdown",
   "metadata": {},
   "source": [
    "### Ma'lumotlar Strukturalari"
   ]
  },
  {
   "cell_type": "code",
   "execution_count": 14,
   "metadata": {},
   "outputs": [
    {
     "name": "stdout",
     "output_type": "stream",
     "text": [
      "Olmaning narxi 1 so'm\n",
      "Anorning narxi 2 so'm\n",
      "Uzumning narxi 3 so'm\n",
      "Anjirning narxi 4 so'm\n",
      "Shaftolining narxi 5 so'm\n",
      "Gilosning narxi 6 so'm\n",
      "Nokning narxi 7 so'm\n",
      "Olchaning narxi 8 so'm\n",
      "Anjirning narxi 9 so'm\n"
     ]
    }
   ],
   "source": [
    "mening_listim = ['olma', 'anor', 'uzum', 'anjir', 'shaftoli', 'gilos', 'nok', 'olcha', 'anjir',]\n",
    "mening_sonlar_listim = [1, 2, 3, 4, 5, 6, 7, 8, 9, 10]\n",
    "\n",
    "for meva, son in zip(mening_listim, mening_sonlar_listim):\n",
    "    print(f'{meva.title()}ning narxi {son} so\\'m')"
   ]
  },
  {
   "cell_type": "code",
   "execution_count": 15,
   "metadata": {},
   "outputs": [
    {
     "name": "stdout",
     "output_type": "stream",
     "text": [
      "Olmaning narxi 10000 so'm\n",
      "Anorning narxi 20000 so'm\n",
      "Uzumning narxi 40000 so'm\n",
      "Gilosning narxi 30000 so'm\n",
      "Shaftolining narxi 25000 so'm\n",
      "Nokning narxi 15000 so'm\n",
      "Olchaning narxi 5000 so'm\n",
      "Anjirning narxi 30000 so'm\n"
     ]
    }
   ],
   "source": [
    "# dictinary\n",
    "mening_mahsulotlarim = {'olma': 10000, 'anor': 20000, 'uzum': 40000, 'gilos': 30000, 'shaftoli': 25000, 'nok': 15000, 'olcha': 5000, 'anjir': 30000,}\n",
    "for mahsulot, narh in mening_mahsulotlarim.items():\n",
    "    print(f'{mahsulot.title()}ning narxi {narh} so\\'m')"
   ]
  },
  {
   "cell_type": "markdown",
   "metadata": {},
   "source": [
    "### Funksiyalar"
   ]
  },
  {
   "cell_type": "code",
   "execution_count": 16,
   "metadata": {},
   "outputs": [],
   "source": [
    "def salom_ber():\n",
    "    print('Assalomu alaykum')"
   ]
  },
  {
   "cell_type": "code",
   "execution_count": 20,
   "metadata": {},
   "outputs": [],
   "source": [
    "def salom_ber(ism):\n",
    "    print(f'Assalomu alaykum, hurmatli {ism.title()}')"
   ]
  },
  {
   "cell_type": "code",
   "execution_count": 22,
   "metadata": {},
   "outputs": [
    {
     "name": "stdout",
     "output_type": "stream",
     "text": [
      "Assalomu alaykum, hurmatli Ali\n",
      "Assalomu alaykum, hurmatli Vali\n"
     ]
    }
   ],
   "source": [
    "salom_ber('Ali')\n",
    "salom_ber('Vali')"
   ]
  },
  {
   "cell_type": "markdown",
   "metadata": {},
   "source": [
    "### Fayllarni o'qish va yozish"
   ]
  },
  {
   "cell_type": "code",
   "execution_count": 24,
   "metadata": {},
   "outputs": [
    {
     "name": "stdout",
     "output_type": "stream",
     "text": [
      "Salom, O'zbekiston\n"
     ]
    }
   ],
   "source": [
    "with open('pi.txt', 'r') as fayl:\n",
    "    pi = fayl.read()\n",
    "print(pi)"
   ]
  },
  {
   "cell_type": "code",
   "execution_count": 25,
   "metadata": {},
   "outputs": [],
   "source": [
    "# write to the file\n",
    "filename = 'new_file.txt'\n",
    "with open(filename, 'w') as file_object:\n",
    "    file_object.write('Hello world!')"
   ]
  },
  {
   "cell_type": "code",
   "execution_count": null,
   "metadata": {},
   "outputs": [],
   "source": []
  }
 ],
 "metadata": {
  "kernelspec": {
   "display_name": "sega",
   "language": "python",
   "name": "python3"
  },
  "language_info": {
   "codemirror_mode": {
    "name": "ipython",
    "version": 3
   },
   "file_extension": ".py",
   "mimetype": "text/x-python",
   "name": "python",
   "nbconvert_exporter": "python",
   "pygments_lexer": "ipython3",
   "version": "3.9.16"
  }
 },
 "nbformat": 4,
 "nbformat_minor": 2
}
